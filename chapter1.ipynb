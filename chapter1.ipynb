{
 "cells": [
  {
   "cell_type": "markdown",
   "metadata": {},
   "source": [
    "# Chapter 1\n",
    "\n",
    "## Basic Math Manipulations\n",
    "\n",
    "### A math function is analogous to a programming method\n",
    "\n",
    "$f(x) = 2\\pi x$\n"
   ]
  },
  {
   "cell_type": "code",
   "execution_count": 19,
   "metadata": {},
   "outputs": [
    {
     "data": {
      "image/png": "[encoded data removed]",
      "text/plain": [
       "<Figure size 432x288 with 1 Axes>"
      ]
     },
     "metadata": {
      "needs_background": "light"
     },
     "output_type": "display_data"
    },
    {
     "name": "stdout",
     "output_type": "stream",
     "text": [
      "\n"
     ]
    }
   ],
   "source": [
    "from sympy import plot, Symbol\n",
    "from math import pi\n",
    "\n",
    "def f(x):\n",
    "    return 2 * pi * x\n",
    "\n",
    "# using Sympy to plot the function\n",
    "x = Symbol('x')\n",
    "f = 2 * pi * x\n",
    "\n",
    "#plot the function\n",
    "\n",
    "plot(f, xlim=(-5,5))\n",
    "\n",
    "print() # suppress extraneous output from plot.\n"
   ]
  },
  {
   "cell_type": "markdown",
   "metadata": {},
   "source": [
    "### Multivariable Functions with SymPy\n",
    "\n",
    "\n",
    "$f(x,y) = x * y^2$"
   ]
  },
  {
   "cell_type": "markdown",
   "metadata": {},
   "source": [
    "## Performing a sum\n",
    "\n",
    "$\\sum \\limits_{n=1}^{5} 2x^{2} = 2(1)^{2} + 2(2)^{2} + 2(3)^{2} + 2(4)^{2} + 2(5)^{2}$"
   ]
  },
  {
   "cell_type": "code",
   "execution_count": 28,
   "metadata": {},
   "outputs": [
    {
     "name": "stdout",
     "output_type": "stream",
     "text": [
      "60\n"
     ]
    }
   ],
   "source": [
    "summation = sum (2*(x**2) for x in range(1,5))\n",
    "print (summation)"
   ]
  },
  {
   "cell_type": "markdown",
   "metadata": {},
   "source": [
    "### Summing a set with basic Python\n",
    "\n",
    "$X = [1, 3, 6, 10]$\n",
    "\n",
    "$\\sum \\limits_{x \\in X} 2x $"
   ]
  },
  {
   "cell_type": "code",
   "execution_count": 31,
   "metadata": {},
   "outputs": [
    {
     "name": "stdout",
     "output_type": "stream",
     "text": [
      "40\n"
     ]
    }
   ],
   "source": [
    "x = [1, 3, 6, 10]\n",
    "n = len(x)\n",
    "summation = sum (2*x[i] for i in range(0, n))\n",
    "print(summation)"
   ]
  },
  {
   "cell_type": "markdown",
   "metadata": {},
   "source": [
    "#### Summing a set with SymPy"
   ]
  },
  {
   "cell_type": "code",
   "execution_count": 32,
   "metadata": {},
   "outputs": [
    {
     "ename": "TypeError",
     "evalue": "list indices must be integers or slices, not Symbol",
     "output_type": "error",
     "traceback": [
      "\u001b[1;31m---------------------------------------------------------------------------\u001b[0m",
      "\u001b[1;31mTypeError\u001b[0m                                 Traceback (most recent call last)",
      "\u001b[1;32mc:\\src\\jupyter\\essentialmath\\chapter1.ipynb Cell 9\u001b[0m in \u001b[0;36m<cell line: 5>\u001b[1;34m()\u001b[0m\n\u001b[0;32m      <a href='vscode-notebook-cell:/c%3A/src/jupyter/essentialmath/chapter1.ipynb#X10sZmlsZQ%3D%3D?line=2'>3</a>\u001b[0m x \u001b[39m=\u001b[39m [\u001b[39m1\u001b[39m, \u001b[39m3\u001b[39m, \u001b[39m6\u001b[39m, \u001b[39m10\u001b[39m]\n\u001b[0;32m      <a href='vscode-notebook-cell:/c%3A/src/jupyter/essentialmath/chapter1.ipynb#X10sZmlsZQ%3D%3D?line=3'>4</a>\u001b[0m \u001b[39m# iterate i from 1 to n, multiply and sum\u001b[39;00m\n\u001b[1;32m----> <a href='vscode-notebook-cell:/c%3A/src/jupyter/essentialmath/chapter1.ipynb#X10sZmlsZQ%3D%3D?line=4'>5</a>\u001b[0m summation \u001b[39m=\u001b[39m Sum(\u001b[39m2\u001b[39m\u001b[39m*\u001b[39m x[i], (i, \u001b[39m1\u001b[39m, n))\n\u001b[0;32m      <a href='vscode-notebook-cell:/c%3A/src/jupyter/essentialmath/chapter1.ipynb#X10sZmlsZQ%3D%3D?line=5'>6</a>\u001b[0m up_to_5 \u001b[39m=\u001b[39m summation\u001b[39m.\u001b[39msubs(n, \u001b[39m5\u001b[39m)\n\u001b[0;32m      <a href='vscode-notebook-cell:/c%3A/src/jupyter/essentialmath/chapter1.ipynb#X10sZmlsZQ%3D%3D?line=6'>7</a>\u001b[0m \u001b[39mprint\u001b[39m(up_to_5\u001b[39m.\u001b[39mdoit())\n",
      "\u001b[1;31mTypeError\u001b[0m: list indices must be integers or slices, not Symbol"
     ]
    }
   ],
   "source": [
    "from sympy import *\n",
    "i , n = symbols('i n')\n",
    "\n",
    "# iterate i from 1 to n, multiply and sum\n",
    "summation = Sum(2*i, (i, 1, n))\n",
    "up_to_5 = summation.subs(n, 5)\n",
    "print(up_to_5.doit())\n",
    "f=Sum(10*i, (i,1,n))\n",
    "p = plot(f, xlim=(0,5), ylim=(0,200))\n",
    "\n"
   ]
  },
  {
   "cell_type": "markdown",
   "metadata": {},
   "source": [
    "## Simplifying Expressions with SymPy\n",
    "Show that \n",
    "\n",
    "$x^{5} / x^{3} = x^{2}$\n"
   ]
  },
  {
   "cell_type": "code",
   "execution_count": 127,
   "metadata": {},
   "outputs": [
    {
     "name": "stdout",
     "output_type": "stream",
     "text": [
      "x**2\n"
     ]
    }
   ],
   "source": [
    "from sympy import simplify\n",
    "\n",
    "x = symbols('x')\n",
    "expression = x**5/x**3\n",
    "print(simplify(expression))"
   ]
  },
  {
   "cell_type": "markdown",
   "metadata": {},
   "source": [
    "## Logarithms\n",
    "\n",
    "$\\log_{2}256 = 8$"
   ]
  },
  {
   "cell_type": "code",
   "execution_count": 7,
   "metadata": {},
   "outputs": [
    {
     "name": "stdout",
     "output_type": "stream",
     "text": [
      "8\n",
      "256\n"
     ]
    },
    {
     "ename": "NameError",
     "evalue": "name 'sympy' is not defined",
     "output_type": "error",
     "traceback": [
      "\u001b[1;31m---------------------------------------------------------------------------\u001b[0m",
      "\u001b[1;31mNameError\u001b[0m                                 Traceback (most recent call last)",
      "\u001b[1;32mc:\\src\\jupyter\\essentialmath\\chapter1.ipynb Cell 12\u001b[0m in \u001b[0;36m<cell line: 6>\u001b[1;34m()\u001b[0m\n\u001b[0;32m      <a href='vscode-notebook-cell:/c%3A/src/jupyter/essentialmath/chapter1.ipynb#X14sZmlsZQ%3D%3D?line=2'>3</a>\u001b[0m \u001b[39mprint\u001b[39m(log(\u001b[39m256\u001b[39m,\u001b[39m2\u001b[39m))\n\u001b[0;32m      <a href='vscode-notebook-cell:/c%3A/src/jupyter/essentialmath/chapter1.ipynb#X14sZmlsZQ%3D%3D?line=3'>4</a>\u001b[0m \u001b[39mprint\u001b[39m (\u001b[39m2\u001b[39m\u001b[39m*\u001b[39m\u001b[39m*\u001b[39m\u001b[39m8\u001b[39m)\n\u001b[1;32m----> <a href='vscode-notebook-cell:/c%3A/src/jupyter/essentialmath/chapter1.ipynb#X14sZmlsZQ%3D%3D?line=5'>6</a>\u001b[0m x \u001b[39m=\u001b[39m sympy\u001b[39m.\u001b[39mSymbol(\u001b[39m'\u001b[39m\u001b[39mx\u001b[39m\u001b[39m'\u001b[39m)\n\u001b[0;32m      <a href='vscode-notebook-cell:/c%3A/src/jupyter/essentialmath/chapter1.ipynb#X14sZmlsZQ%3D%3D?line=6'>7</a>\u001b[0m f \u001b[39m=\u001b[39m log(x, \u001b[39m2\u001b[39m)\n\u001b[0;32m      <a href='vscode-notebook-cell:/c%3A/src/jupyter/essentialmath/chapter1.ipynb#X14sZmlsZQ%3D%3D?line=7'>8</a>\u001b[0m p \u001b[39m=\u001b[39m plot(f, xlim\u001b[39m=\u001b[39m(\u001b[39m0\u001b[39m, \u001b[39m8\u001b[39m), ylim\u001b[39m=\u001b[39m(\u001b[39m0\u001b[39m,\u001b[39m5\u001b[39m))\n",
      "\u001b[1;31mNameError\u001b[0m: name 'sympy' is not defined"
     ]
    }
   ],
   "source": [
    "from math import log\n",
    "from sympy import *\n",
    "print(log(256,2))\n",
    "print (2**8)\n",
    "\n",
    "x = sympy.Symbol('x')\n",
    "f = log(x, 2)\n",
    "p = plot(f, xlim=(0, 8), ylim=(0,5))\n",
    "\n"
   ]
  },
  {
   "cell_type": "markdown",
   "metadata": {},
   "source": [
    "## Calculating Interest (not interesting)\n",
    "\n",
    "Normally compounded interest is calculated as follows:\n",
    "\n",
    "$A = P * (1 + \\frac{r}{n})^{nt} $\n",
    "\n",
    "- r - interest rate\n",
    "- t - number of years\n",
    "- n - number of times the interest is compounded per year (e.g., 12 = monthly, 4 = quarterly, etc.)\n",
    "- A - future value of the investment\n",
    "- P - initial value of the investment\n",
    " \n",
    "Using Euler's number:\n",
    "\n",
    "$ A = P * e^{rt} $\n"
   ]
  },
  {
   "cell_type": "code",
   "execution_count": 129,
   "metadata": {},
   "outputs": [
    {
     "name": "stdout",
     "output_type": "stream",
     "text": [
      "Using monthly compounding\n",
      "\tAmount at term:1041492.42\n",
      "\tInterest earned:692492.42\n",
      "Using Euler's number to continuously calculate interest:\n",
      "\tAmount at term:1043224.76\n",
      "\tInterest earned:694224.76\n",
      "\tDifference between continuous and monthly (Euler):1732.34\n"
     ]
    }
   ],
   "source": [
    "from math import *\n",
    "p = 349000\n",
    "r = .0365\n",
    "n = 12\n",
    "t = 30\n",
    "a = p * (1 + (r/n))**(n*t)\n",
    "a = round (a, 2)\n",
    "print (\"Using monthly compounding\")\n",
    "print (\"\\tAmount at term:{}\".format(a))\n",
    "print (\"\\tInterest earned:{}\".format(a - p))\n",
    "\n",
    "ae = p * exp(r*t)\n",
    "ae = round (ae, 2)\n",
    "print (\"Using Euler's number to continuously calculate interest:\")\n",
    "print (\"\\tAmount at term:{}\".format(ae))\n",
    "print (\"\\tInterest earned:{}\".format(ae - p))\n",
    "print (\"\\tDifference between continuous and monthly (Euler):{}\".format(round(ae-a,2)))\n"
   ]
  },
  {
   "cell_type": "markdown",
   "metadata": {},
   "source": [
    "# Limits\n",
    "\n",
    "$f(x) = \\frac{1}{x}$\n",
    "\n",
    "$\\displaystyle{\\lim _{x \\to \\infty}} f(x) = 0$"
   ]
  },
  {
   "cell_type": "code",
   "execution_count": 8,
   "metadata": {},
   "outputs": [
    {
     "data": {
      "image/png": "[encoded data removed]",
      "text/plain": [
       "<Figure size 432x288 with 1 Axes>"
      ]
     },
     "metadata": {
      "needs_background": "light"
     },
     "output_type": "display_data"
    },
    {
     "name": "stdout",
     "output_type": "stream",
     "text": [
      "The result of f(x)= 1/x approaches 0 as x approaches infinity.\n",
      "Now calculate Euler's number:\n",
      "The result of f(n)= (1+(1/n))**n approaches 2.71828182845905 as n approaches infinity.\n"
     ]
    }
   ],
   "source": [
    "from sympy import *\n",
    "\n",
    "x = Symbol('x')\n",
    "f = 1/x\n",
    "plot(f, xlim = (0, 10), ylim = (0,10))\n",
    "\n",
    "result = limit(f, x, oo)\n",
    "print (\"The result of f(x)= 1/x approaches %s as x approaches infinity.\"% result)\n",
    "\n",
    "print (\"Now calculate Euler's number:\")\n",
    "n = Symbol('n')\n",
    "f = (1+(1/n))**n\n",
    "result = limit(f, n, oo)\n",
    "print (\"The result of f(n)= (1+(1/n))**n approaches %s as n approaches infinity.\"% result.evalf())\n",
    "# needed the .evalf() because SymPy knows that's Euler's number!\n"
   ]
  }
 ],
 "metadata": {
  "kernelspec": {
   "display_name": "Python 3.10.5 64-bit",
   "language": "python",
   "name": "python3"
  },
  "language_info": {
   "codemirror_mode": {
    "name": "ipython",
    "version": 3
   },
   "file_extension": ".py",
   "mimetype": "text/x-python",
   "name": "python",
   "nbconvert_exporter": "python",
   "pygments_lexer": "ipython3",
   "version": "3.10.5"
  },
  "orig_nbformat": 4,
  "vscode": {
   "interpreter": {
    "hash": "369f2c481f4da34e4445cda3fffd2e751bd1c4d706f27375911949ba6bb62e1c"
   }
  }
 },
 "nbformat": 4,
 "nbformat_minor": 2
}
